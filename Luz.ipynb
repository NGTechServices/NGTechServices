{
  "nbformat": 4,
  "nbformat_minor": 0,
  "metadata": {
    "colab": {
      "provenance": [],
      "authorship_tag": "ABX9TyMqVIYB8Uj/tbPigZk3y+a6",
      "include_colab_link": true
    },
    "kernelspec": {
      "name": "python3",
      "display_name": "Python 3"
    },
    "language_info": {
      "name": "python"
    }
  },
  "cells": [
    {
      "cell_type": "markdown",
      "metadata": {
        "id": "view-in-github",
        "colab_type": "text"
      },
      "source": [
        "<a href=\"https://colab.research.google.com/github/NGTechServices/NGTechServices/blob/main/Luz.ipynb\" target=\"_parent\"><img src=\"https://colab.research.google.com/assets/colab-badge.svg\" alt=\"Open In Colab\"/></a>"
      ]
    },
    {
      "cell_type": "code",
      "execution_count": 1,
      "metadata": {
        "colab": {
          "base_uri": "https://localhost:8080/",
          "height": 332
        },
        "id": "SyGVQqf_sbnB",
        "outputId": "3d360cb7-fc07-4329-eb36-e559cbb6bbb9"
      },
      "outputs": [
        {
          "output_type": "error",
          "ename": "TclError",
          "evalue": "no display name and no $DISPLAY environment variable",
          "traceback": [
            "\u001b[0;31m---------------------------------------------------------------------------\u001b[0m",
            "\u001b[0;31mTclError\u001b[0m                                  Traceback (most recent call last)",
            "\u001b[0;32m/tmp/ipython-input-3330940884.py\u001b[0m in \u001b[0;36m<cell line: 0>\u001b[0;34m()\u001b[0m\n\u001b[1;32m     36\u001b[0m \u001b[0;34m\u001b[0m\u001b[0m\n\u001b[1;32m     37\u001b[0m \u001b[0;31m# Crear ventana tipo protector de pantalla\u001b[0m\u001b[0;34m\u001b[0m\u001b[0;34m\u001b[0m\u001b[0m\n\u001b[0;32m---> 38\u001b[0;31m \u001b[0mscreen\u001b[0m \u001b[0;34m=\u001b[0m \u001b[0mtk\u001b[0m\u001b[0;34m.\u001b[0m\u001b[0mTk\u001b[0m\u001b[0;34m(\u001b[0m\u001b[0;34m)\u001b[0m\u001b[0;34m\u001b[0m\u001b[0;34m\u001b[0m\u001b[0m\n\u001b[0m\u001b[1;32m     39\u001b[0m \u001b[0mscreen\u001b[0m\u001b[0;34m.\u001b[0m\u001b[0mattributes\u001b[0m\u001b[0;34m(\u001b[0m\u001b[0;34m\"-fullscreen\"\u001b[0m\u001b[0;34m,\u001b[0m \u001b[0;32mTrue\u001b[0m\u001b[0;34m)\u001b[0m\u001b[0;34m\u001b[0m\u001b[0;34m\u001b[0m\u001b[0m\n\u001b[1;32m     40\u001b[0m \u001b[0mscreen\u001b[0m\u001b[0;34m.\u001b[0m\u001b[0mconfigure\u001b[0m\u001b[0;34m(\u001b[0m\u001b[0mbg\u001b[0m\u001b[0;34m=\u001b[0m\u001b[0;34m\"black\"\u001b[0m\u001b[0;34m)\u001b[0m\u001b[0;34m\u001b[0m\u001b[0;34m\u001b[0m\u001b[0m\n",
            "\u001b[0;32m/usr/lib/python3.12/tkinter/__init__.py\u001b[0m in \u001b[0;36m__init__\u001b[0;34m(self, screenName, baseName, className, useTk, sync, use)\u001b[0m\n\u001b[1;32m   2347\u001b[0m                 \u001b[0mbaseName\u001b[0m \u001b[0;34m=\u001b[0m \u001b[0mbaseName\u001b[0m \u001b[0;34m+\u001b[0m \u001b[0mext\u001b[0m\u001b[0;34m\u001b[0m\u001b[0;34m\u001b[0m\u001b[0m\n\u001b[1;32m   2348\u001b[0m         \u001b[0minteractive\u001b[0m \u001b[0;34m=\u001b[0m \u001b[0;32mFalse\u001b[0m\u001b[0;34m\u001b[0m\u001b[0;34m\u001b[0m\u001b[0m\n\u001b[0;32m-> 2349\u001b[0;31m         \u001b[0mself\u001b[0m\u001b[0;34m.\u001b[0m\u001b[0mtk\u001b[0m \u001b[0;34m=\u001b[0m \u001b[0m_tkinter\u001b[0m\u001b[0;34m.\u001b[0m\u001b[0mcreate\u001b[0m\u001b[0;34m(\u001b[0m\u001b[0mscreenName\u001b[0m\u001b[0;34m,\u001b[0m \u001b[0mbaseName\u001b[0m\u001b[0;34m,\u001b[0m \u001b[0mclassName\u001b[0m\u001b[0;34m,\u001b[0m \u001b[0minteractive\u001b[0m\u001b[0;34m,\u001b[0m \u001b[0mwantobjects\u001b[0m\u001b[0;34m,\u001b[0m \u001b[0museTk\u001b[0m\u001b[0;34m,\u001b[0m \u001b[0msync\u001b[0m\u001b[0;34m,\u001b[0m \u001b[0muse\u001b[0m\u001b[0;34m)\u001b[0m\u001b[0;34m\u001b[0m\u001b[0;34m\u001b[0m\u001b[0m\n\u001b[0m\u001b[1;32m   2350\u001b[0m         \u001b[0;32mif\u001b[0m \u001b[0m_debug\u001b[0m\u001b[0;34m:\u001b[0m\u001b[0;34m\u001b[0m\u001b[0;34m\u001b[0m\u001b[0m\n\u001b[1;32m   2351\u001b[0m             \u001b[0mself\u001b[0m\u001b[0;34m.\u001b[0m\u001b[0mtk\u001b[0m\u001b[0;34m.\u001b[0m\u001b[0msettrace\u001b[0m\u001b[0;34m(\u001b[0m\u001b[0m_print_command\u001b[0m\u001b[0;34m)\u001b[0m\u001b[0;34m\u001b[0m\u001b[0;34m\u001b[0m\u001b[0m\n",
            "\u001b[0;31mTclError\u001b[0m: no display name and no $DISPLAY environment variable"
          ]
        }
      ],
      "source": [
        "\n",
        "import tkinter as tk\n",
        "from datetime import datetime, time\n",
        "import threading\n",
        "import time as t\n",
        "\n",
        "# Horario de luz\n",
        "start_time = time(6, 0)\n",
        "end_time = time(20, 0)\n",
        "\n",
        "# Estado de la luz\n",
        "light_on = False\n",
        "\n",
        "def check_light():\n",
        "    global light_on\n",
        "    while True:\n",
        "        now = datetime.now().time()\n",
        "        if start_time <= now <= end_time:\n",
        "            if not light_on:\n",
        "                light_on = True\n",
        "                update_screen(\"LUZ ENCENDIDA 🌞\", \"#d0f0c0\")\n",
        "        else:\n",
        "            if light_on:\n",
        "                light_on = False\n",
        "                update_screen(\"LUZ APAGADA 🌙\", \"#001f3f\")\n",
        "        t.sleep(60)\n",
        "\n",
        "def update_screen(message, bg_color):\n",
        "    screen.config(bg=bg_color)\n",
        "    label.config(text=message, bg=bg_color)\n",
        "    clock_label.config(bg=bg_color)\n",
        "\n",
        "def update_clock():\n",
        "    now = datetime.now().strftime(\"%H:%M:%S\")\n",
        "    clock_label.config(text=now)\n",
        "    screen.after(1000, update_clock)\n",
        "\n",
        "# Crear ventana tipo protector de pantalla\n",
        "screen = tk.Tk()\n",
        "screen.attributes(\"-fullscreen\", True)\n",
        "screen.configure(bg=\"black\")\n",
        "\n",
        "# Texto de estado de la luz\n",
        "label = tk.Label(screen, text=\"Iniciando...\", font=(\"Arial\", 48), fg=\"white\", bg=\"black\")\n",
        "label.pack(expand=True)\n",
        "\n",
        "# Reloj digital\n",
        "clock_label = tk.Label(screen, text=\"\", font=(\"Consolas\", 36), fg=\"white\", bg=\"black\")\n",
        "clock_label.pack(side=\"bottom\", pady=30)\n",
        "\n",
        "# Salir con clic o tecla\n",
        "screen.bind(\"<Escape>\", lambda e: screen.destroy())\n",
        "screen.bind(\"<Button-1>\", lambda e: screen.destroy())\n",
        "\n",
        "# Iniciar funciones\n",
        "threading.Thread(target=check_light, daemon=True).start()\n",
        "update_clock()\n",
        "\n",
        "screen.mainloop()\n",
        "\n"
      ]
    }
  ]
}